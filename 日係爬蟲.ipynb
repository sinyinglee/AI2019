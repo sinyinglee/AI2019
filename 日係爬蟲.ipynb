{
 "cells": [
  {
   "cell_type": "code",
   "execution_count": 1,
   "metadata": {},
   "outputs": [],
   "source": [
    "import requests\n",
    "import urllib.request\n",
    "from bs4 import BeautifulSoup"
   ]
  },
  {
   "cell_type": "code",
   "execution_count": 2,
   "metadata": {},
   "outputs": [],
   "source": [
    "url = \"http://www.style-arena.jp/ja/tokyo-streetstyle/harajuku\"\n",
    "r = requests.get(url)\n",
    "html_content = r.text"
   ]
  },
  {
   "cell_type": "code",
   "execution_count": 97,
   "metadata": {},
   "outputs": [],
   "source": [
    "soup = BeautifulSoup(html_content,\"lxml\")"
   ]
  },
  {
   "cell_type": "code",
   "execution_count": 98,
   "metadata": {},
   "outputs": [
    {
     "name": "stdout",
     "output_type": "stream",
     "text": [
      "/assets/img/banner/ad_bnr_2_c.jpg\n",
      "/assets/img/banner/ad_bnr_2_b.jpg\n",
      "/assets/img/banner/ad_bnr_2_a.jpg\n",
      "/assets/img/template/02n.png\n",
      "http://www.style-arena.jp/images/master/icon/topimg/KqNdEwnArgiZA.jpg?1575808378\n",
      "/assets/img/template/ajax_loading.gif\n",
      "/assets/img/template/footer_logo.gif\n",
      "/assets/img/template/bt_pagetop.gif\n"
     ]
    }
   ],
   "source": [
    "image = soup.findAll(\"img\")\n",
    "for i in image:\n",
    "    print(i.get(\"src\"))"
   ]
  },
  {
   "cell_type": "code",
   "execution_count": 100,
   "metadata": {},
   "outputs": [
    {
     "name": "stdout",
     "output_type": "stream",
     "text": [
      "http://www.style-arena.jp/images/streetstyle/2019/11/4/harajuku.jpg\n",
      "http://www.style-arena.jp/images/streetstyle/2019/11/4/harajuku.jpg\n",
      "http://www.style-arena.jp/images/snaps/201910/2019103116634-01.jpg\n",
      "http://www.style-arena.jp/images/snaps/201910/2019103116631-01.jpg\n",
      "http://www.style-arena.jp/images/snaps/201911/2019111916678-01.jpg\n",
      "http://www.style-arena.jp/images/snaps/201910/2019103116632-01.jpg\n",
      "http://www.style-arena.jp/images/snaps/201910/2019103116623-01.jpg\n",
      "http://www.style-arena.jp/images/snaps/201910/2019102416598-01.jpg\n",
      "http://www.style-arena.jp/images/streetstyle/2019/11/2/harajuku.jpg\n",
      "http://www.style-arena.jp/images/snaps/201910/2019103116630-01.jpg\n",
      "http://www.style-arena.jp/images/snaps/201910/2019102416604-01.jpg\n",
      "http://www.style-arena.jp/images/snaps/201910/2019102416608-01.jpg\n",
      "http://www.style-arena.jp/images/snaps/201910/2019103116613-01.jpg\n",
      "http://www.style-arena.jp/images/snaps/201910/2019103116629-01.jpg\n",
      "http://www.style-arena.jp/images/snaps/201910/2019103116633-01.jpg\n"
     ]
    }
   ],
   "source": [
    "pic_list = soup.select(\".cms_list_figure_content .first_img\")\n",
    "for i in pic_list:\n",
    "    print(i.get(\"data-image\"))#放在同個tag裡面使用get"
   ]
  },
  {
   "cell_type": "code",
   "execution_count": 101,
   "metadata": {},
   "outputs": [],
   "source": [
    "from selenium import webdriver\n",
    "chrome_path = \"/Users/mandylee/Desktop/chromedriver\"\n",
    "driver = webdriver.Chrome(chrome_path)"
   ]
  },
  {
   "cell_type": "code",
   "execution_count": 107,
   "metadata": {},
   "outputs": [
    {
     "ename": "NameError",
     "evalue": "name 'browser' is not defined",
     "output_type": "error",
     "traceback": [
      "\u001b[0;31m---------------------------------------------------------------------------\u001b[0m",
      "\u001b[0;31mNameError\u001b[0m                                 Traceback (most recent call last)",
      "\u001b[0;32m<ipython-input-107-1319c52101a8>\u001b[0m in \u001b[0;36m<module>\u001b[0;34m\u001b[0m\n\u001b[1;32m      8\u001b[0m \u001b[0;34m\u001b[0m\u001b[0m\n\u001b[1;32m      9\u001b[0m \u001b[0;31m# Selenium script to scroll to the bottom, wait 3 seconds for the next batch of data to load, then continue scrolling.  It will continue to do this until the page stops loading new data.\u001b[0m\u001b[0;34m\u001b[0m\u001b[0;34m\u001b[0m\u001b[0;34m\u001b[0m\u001b[0m\n\u001b[0;32m---> 10\u001b[0;31m \u001b[0mlenOfPage\u001b[0m \u001b[0;34m=\u001b[0m \u001b[0mbrowser\u001b[0m\u001b[0;34m.\u001b[0m\u001b[0mexecute_script\u001b[0m\u001b[0;34m(\u001b[0m\u001b[0;34m\"window.scrollTo(0, document.body.scrollHeight);var lenOfPage=document.body.scrollHeight;return lenOfPage;\"\u001b[0m\u001b[0;34m)\u001b[0m\u001b[0;34m\u001b[0m\u001b[0;34m\u001b[0m\u001b[0m\n\u001b[0m\u001b[1;32m     11\u001b[0m \u001b[0mmatch\u001b[0m\u001b[0;34m=\u001b[0m\u001b[0;32mFalse\u001b[0m\u001b[0;34m\u001b[0m\u001b[0;34m\u001b[0m\u001b[0m\n\u001b[1;32m     12\u001b[0m \u001b[0;32mwhile\u001b[0m\u001b[0;34m(\u001b[0m\u001b[0mmatch\u001b[0m\u001b[0;34m==\u001b[0m\u001b[0;32mFalse\u001b[0m\u001b[0;34m)\u001b[0m\u001b[0;34m:\u001b[0m\u001b[0;34m\u001b[0m\u001b[0;34m\u001b[0m\u001b[0m\n",
      "\u001b[0;31mNameError\u001b[0m: name 'browser' is not defined"
     ]
    }
   ],
   "source": [
    "import time\n",
    "\n",
    "chrome_path = \"/Users/mandylee/Desktop/chromedriver\"\n",
    "driver = webdriver.Chrome(chrome_path)\n",
    "\n",
    "# Tell Selenium to get the URL you're interested in.\n",
    "driver.get(\"http://www.style-arena.jp/ja/tokyo-streetstyle/harajuku\")\n",
    "\n",
    "# Selenium script to scroll to the bottom, wait 3 seconds for the next batch of data to load, then continue scrolling.  It will continue to do this until the page stops loading new data.\n",
    "lenOfPage = browser.execute_script(\"window.scrollTo(0, document.body.scrollHeight);var lenOfPage=document.body.scrollHeight;return lenOfPage;\")\n",
    "match=False\n",
    "while(match==False):\n",
    "        lastCount = lenOfPage\n",
    "        time.sleep(3)\n",
    "        lenOfPage = driver.execute_script(\"window.scrollTo(0, document.body.scrollHeight);var lenOfPage=document.body.scrollHeight;return lenOfPage;\")\n",
    "        if lastCount==lenOfPage:\n",
    "            match=True\n",
    "\n",
    "# Now that the page is fully scrolled, grab the source code.\n",
    "source_data = driver.page_source\n",
    "\n",
    "# Throw your source into BeautifulSoup and start parsing!\n",
    "bs_data = bs(source_data)"
   ]
  },
  {
   "cell_type": "code",
   "execution_count": null,
   "metadata": {},
   "outputs": [],
   "source": []
  },
  {
   "cell_type": "code",
   "execution_count": null,
   "metadata": {},
   "outputs": [],
   "source": []
  },
  {
   "cell_type": "code",
   "execution_count": null,
   "metadata": {},
   "outputs": [],
   "source": []
  },
  {
   "cell_type": "code",
   "execution_count": null,
   "metadata": {},
   "outputs": [],
   "source": []
  },
  {
   "cell_type": "code",
   "execution_count": null,
   "metadata": {},
   "outputs": [],
   "source": []
  }
 ],
 "metadata": {
  "kernelspec": {
   "display_name": "Python 3",
   "language": "python",
   "name": "python3"
  },
  "language_info": {
   "codemirror_mode": {
    "name": "ipython",
    "version": 3
   },
   "file_extension": ".py",
   "mimetype": "text/x-python",
   "name": "python",
   "nbconvert_exporter": "python",
   "pygments_lexer": "ipython3",
   "version": "3.7.3"
  }
 },
 "nbformat": 4,
 "nbformat_minor": 2
}
