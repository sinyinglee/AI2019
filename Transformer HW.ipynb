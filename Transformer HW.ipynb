{
 "cells": [
  {
   "cell_type": "markdown",
   "metadata": {},
   "source": [
    "I am Mandy, a college student\n",
    "\n",
    "\n",
    "And this is my first piece of art\n",
    "\n",
    "I am Mandy, a college student\n",
    "\n",
    "And I am going out with a boy named Chris\n",
    "\n",
    "\n",
    "He's not going to last too long\n",
    "\n",
    "He's always got a smile on his face\n",
    "\n",
    "He's kind of a hottie\n",
    "\n",
    "\n",
    "And he's gonna keep his promise to me\n",
    "\n",
    "When I've gone through so much trouble to make it\n",
    "\n",
    "\n",
    "And I love him so much and I'm not going to let him go\n",
    "\n",
    "He's always gonna hold me back\n",
    "\n",
    "He's got me, he's got me\n",
    "\n",
    "\n",
    "And if you can't love a person like me, you're a fool\n",
    "\n",
    "You better start looking\n",
    "\n",
    "Cause I'm going to find you\n",
    "\n",
    "\n",
    "I am Mandy, a college student\n",
    "\n",
    "I am Mandy, a college student\n",
    "\n",
    "And I am going out with a boy named Chris\n",
    "\n"
   ]
  },
  {
   "cell_type": "code",
   "execution_count": null,
   "metadata": {},
   "outputs": [],
   "source": []
  }
 ],
 "metadata": {
  "kernelspec": {
   "display_name": "Python 3",
   "language": "python",
   "name": "python3"
  },
  "language_info": {
   "codemirror_mode": {
    "name": "ipython",
    "version": 3
   },
   "file_extension": ".py",
   "mimetype": "text/x-python",
   "name": "python",
   "nbconvert_exporter": "python",
   "pygments_lexer": "ipython3",
   "version": "3.7.3"
  }
 },
 "nbformat": 4,
 "nbformat_minor": 2
}
