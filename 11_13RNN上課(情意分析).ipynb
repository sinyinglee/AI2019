{
 "cells": [
  {
   "cell_type": "code",
   "execution_count": 1,
   "metadata": {},
   "outputs": [],
   "source": [
    "%matplotlib inline\n",
    "\n",
    "import numpy as np\n",
    "import matplotlib.pyplot as plt"
   ]
  },
  {
   "cell_type": "code",
   "execution_count": 2,
   "metadata": {},
   "outputs": [
    {
     "name": "stderr",
     "output_type": "stream",
     "text": [
      "Using TensorFlow backend.\n"
     ]
    }
   ],
   "source": [
    "from keras.datasets import imdb"
   ]
  },
  {
   "cell_type": "code",
   "execution_count": 3,
   "metadata": {},
   "outputs": [],
   "source": [
    "(x_train, y_train), (x_test, y_test) = imdb.load_data(num_words=10000)"
   ]
  },
  {
   "cell_type": "code",
   "execution_count": 4,
   "metadata": {},
   "outputs": [
    {
     "name": "stdout",
     "output_type": "stream",
     "text": [
      "訓練總筆數: 25000\n",
      "測試總筆數: 25000\n"
     ]
    }
   ],
   "source": [
    "print('訓練總筆數:', len(x_train))\n",
    "print('測試總筆數:', len(x_test))"
   ]
  },
  {
   "cell_type": "code",
   "execution_count": 5,
   "metadata": {
    "collapsed": true
   },
   "outputs": [
    {
     "data": {
      "text/plain": [
       "[1,\n",
       " 17,\n",
       " 6,\n",
       " 194,\n",
       " 337,\n",
       " 7,\n",
       " 4,\n",
       " 204,\n",
       " 22,\n",
       " 45,\n",
       " 254,\n",
       " 8,\n",
       " 106,\n",
       " 14,\n",
       " 123,\n",
       " 4,\n",
       " 2,\n",
       " 270,\n",
       " 2,\n",
       " 5,\n",
       " 2,\n",
       " 2,\n",
       " 732,\n",
       " 2098,\n",
       " 101,\n",
       " 405,\n",
       " 39,\n",
       " 14,\n",
       " 1034,\n",
       " 4,\n",
       " 1310,\n",
       " 9,\n",
       " 115,\n",
       " 50,\n",
       " 305,\n",
       " 12,\n",
       " 47,\n",
       " 4,\n",
       " 168,\n",
       " 5,\n",
       " 235,\n",
       " 7,\n",
       " 38,\n",
       " 111,\n",
       " 699,\n",
       " 102,\n",
       " 7,\n",
       " 4,\n",
       " 4039,\n",
       " 9245,\n",
       " 9,\n",
       " 24,\n",
       " 6,\n",
       " 78,\n",
       " 1099,\n",
       " 17,\n",
       " 2345,\n",
       " 2,\n",
       " 21,\n",
       " 27,\n",
       " 9685,\n",
       " 6139,\n",
       " 5,\n",
       " 2,\n",
       " 1603,\n",
       " 92,\n",
       " 1183,\n",
       " 4,\n",
       " 1310,\n",
       " 7,\n",
       " 4,\n",
       " 204,\n",
       " 42,\n",
       " 97,\n",
       " 90,\n",
       " 35,\n",
       " 221,\n",
       " 109,\n",
       " 29,\n",
       " 127,\n",
       " 27,\n",
       " 118,\n",
       " 8,\n",
       " 97,\n",
       " 12,\n",
       " 157,\n",
       " 21,\n",
       " 6789,\n",
       " 2,\n",
       " 9,\n",
       " 6,\n",
       " 66,\n",
       " 78,\n",
       " 1099,\n",
       " 4,\n",
       " 631,\n",
       " 1191,\n",
       " 5,\n",
       " 2642,\n",
       " 272,\n",
       " 191,\n",
       " 1070,\n",
       " 6,\n",
       " 7585,\n",
       " 8,\n",
       " 2197,\n",
       " 2,\n",
       " 2,\n",
       " 544,\n",
       " 5,\n",
       " 383,\n",
       " 1271,\n",
       " 848,\n",
       " 1468,\n",
       " 2,\n",
       " 497,\n",
       " 2,\n",
       " 8,\n",
       " 1597,\n",
       " 8778,\n",
       " 2,\n",
       " 21,\n",
       " 60,\n",
       " 27,\n",
       " 239,\n",
       " 9,\n",
       " 43,\n",
       " 8368,\n",
       " 209,\n",
       " 405,\n",
       " 10,\n",
       " 10,\n",
       " 12,\n",
       " 764,\n",
       " 40,\n",
       " 4,\n",
       " 248,\n",
       " 20,\n",
       " 12,\n",
       " 16,\n",
       " 5,\n",
       " 174,\n",
       " 1791,\n",
       " 72,\n",
       " 7,\n",
       " 51,\n",
       " 6,\n",
       " 1739,\n",
       " 22,\n",
       " 4,\n",
       " 204,\n",
       " 131,\n",
       " 9]"
      ]
     },
     "execution_count": 5,
     "metadata": {},
     "output_type": "execute_result"
    }
   ],
   "source": [
    " x_train[24999]"
   ]
  },
  {
   "cell_type": "code",
   "execution_count": 6,
   "metadata": {},
   "outputs": [
    {
     "data": {
      "text/plain": [
       "153"
      ]
     },
     "execution_count": 6,
     "metadata": {},
     "output_type": "execute_result"
    }
   ],
   "source": [
    "len(x_train[24999])"
   ]
  },
  {
   "cell_type": "code",
   "execution_count": 7,
   "metadata": {},
   "outputs": [
    {
     "data": {
      "text/plain": [
       "156"
      ]
     },
     "execution_count": 7,
     "metadata": {},
     "output_type": "execute_result"
    }
   ],
   "source": [
    "len(x_train[9982])"
   ]
  },
  {
   "cell_type": "code",
   "execution_count": 8,
   "metadata": {},
   "outputs": [
    {
     "data": {
      "text/plain": [
       "104"
      ]
     },
     "execution_count": 8,
     "metadata": {},
     "output_type": "execute_result"
    }
   ],
   "source": [
    "len(x_train[9487])"
   ]
  },
  {
   "cell_type": "code",
   "execution_count": 9,
   "metadata": {},
   "outputs": [
    {
     "data": {
      "text/plain": [
       "array([1, 0, 0, 1, 0, 0, 1, 0, 1, 0])"
      ]
     },
     "execution_count": 9,
     "metadata": {},
     "output_type": "execute_result"
    }
   ],
   "source": [
    "y_train[:10]"
   ]
  },
  {
   "cell_type": "code",
   "execution_count": 10,
   "metadata": {},
   "outputs": [
    {
     "data": {
      "text/plain": [
       "0"
      ]
     },
     "execution_count": 10,
     "metadata": {},
     "output_type": "execute_result"
    }
   ],
   "source": [
    "y_train[24999]"
   ]
  },
  {
   "cell_type": "markdown",
   "metadata": {},
   "source": [
    "## 設計我們的情意分析RNN\n",
    "\n",
    "- 1000>3\n",
    "- RNN:10\n",
    "- Dense(1)"
   ]
  },
  {
   "cell_type": "code",
   "execution_count": 17,
   "metadata": {},
   "outputs": [],
   "source": [
    "from keras.preprocessing import sequence"
   ]
  },
  {
   "cell_type": "code",
   "execution_count": 18,
   "metadata": {},
   "outputs": [],
   "source": [
    "x_train = sequence.pad_sequences(x_train, maxlen=150)\n",
    "x_test = sequence.pad_sequences(x_test, maxlen=150)"
   ]
  },
  {
   "cell_type": "code",
   "execution_count": 19,
   "metadata": {},
   "outputs": [
    {
     "data": {
      "text/plain": [
       "(25000, 150)"
      ]
     },
     "execution_count": 19,
     "metadata": {},
     "output_type": "execute_result"
    }
   ],
   "source": [
    "x_train.shape"
   ]
  },
  {
   "cell_type": "markdown",
   "metadata": {},
   "source": [
    "## 打造我們的RNN"
   ]
  },
  {
   "cell_type": "markdown",
   "metadata": {},
   "source": [
    "### Step 1 建置RNN神經網路"
   ]
  },
  {
   "cell_type": "code",
   "execution_count": 39,
   "metadata": {},
   "outputs": [],
   "source": [
    "N = 3 # 文字要壓到 N 維, 固定壓到3維\n",
    "K = 50 # LSTM 有 K 個神經元"
   ]
  },
  {
   "cell_type": "code",
   "execution_count": 40,
   "metadata": {},
   "outputs": [],
   "source": [
    "from keras.models import Sequential\n",
    "from keras.layers import Dense, Embedding\n",
    "from keras.layers import LSTM"
   ]
  },
  {
   "cell_type": "code",
   "execution_count": 41,
   "metadata": {},
   "outputs": [],
   "source": [
    "model = Sequential()"
   ]
  },
  {
   "cell_type": "code",
   "execution_count": 42,
   "metadata": {},
   "outputs": [],
   "source": [
    "model.add(Embedding(10000,N))"
   ]
  },
  {
   "cell_type": "code",
   "execution_count": 43,
   "metadata": {},
   "outputs": [],
   "source": [
    "# LSTM放入k個cells\n",
    "model.add(LSTM(K))"
   ]
  },
  {
   "cell_type": "code",
   "execution_count": 44,
   "metadata": {},
   "outputs": [],
   "source": [
    "#2類判斷的activation使用sigmoid\n",
    "model.add(Dense(1, activation=\"sigmoid\"))"
   ]
  },
  {
   "cell_type": "markdown",
   "metadata": {},
   "source": [
    "### Step2 組裝"
   ]
  },
  {
   "cell_type": "code",
   "execution_count": 45,
   "metadata": {},
   "outputs": [],
   "source": [
    "model.compile(loss = 'binary_crossentropy',\n",
    "             optimizer='adam',\n",
    "              metrics = [\"accuracy\"])"
   ]
  },
  {
   "cell_type": "code",
   "execution_count": 46,
   "metadata": {},
   "outputs": [
    {
     "name": "stdout",
     "output_type": "stream",
     "text": [
      "Model: \"sequential_2\"\n",
      "_________________________________________________________________\n",
      "Layer (type)                 Output Shape              Param #   \n",
      "=================================================================\n",
      "embedding_2 (Embedding)      (None, None, 3)           30000     \n",
      "_________________________________________________________________\n",
      "lstm_2 (LSTM)                (None, 50)                10800     \n",
      "_________________________________________________________________\n",
      "dense_2 (Dense)              (None, 1)                 51        \n",
      "=================================================================\n",
      "Total params: 40,851\n",
      "Trainable params: 40,851\n",
      "Non-trainable params: 0\n",
      "_________________________________________________________________\n"
     ]
    }
   ],
   "source": [
    "model.summary()"
   ]
  },
  {
   "cell_type": "code",
   "execution_count": 47,
   "metadata": {},
   "outputs": [
    {
     "data": {
      "text/plain": [
       "2800"
      ]
     },
     "execution_count": 47,
     "metadata": {},
     "output_type": "execute_result"
    }
   ],
   "source": [
    "# 計算方式：有\n",
    "((4*13)+4)*K"
   ]
  },
  {
   "cell_type": "code",
   "execution_count": 48,
   "metadata": {},
   "outputs": [
    {
     "name": "stderr",
     "output_type": "stream",
     "text": [
      "//anaconda3/lib/python3.7/site-packages/tensorflow_core/python/framework/indexed_slices.py:424: UserWarning: Converting sparse IndexedSlices to a dense Tensor of unknown shape. This may consume a large amount of memory.\n",
      "  \"Converting sparse IndexedSlices to a dense Tensor of unknown shape. \"\n"
     ]
    },
    {
     "name": "stdout",
     "output_type": "stream",
     "text": [
      "Epoch 1/5\n",
      "25000/25000 [==============================] - 46s 2ms/step - loss: 0.5083 - accuracy: 0.7250\n",
      "Epoch 2/5\n",
      "25000/25000 [==============================] - 46s 2ms/step - loss: 0.2744 - accuracy: 0.8914\n",
      "Epoch 3/5\n",
      "25000/25000 [==============================] - 47s 2ms/step - loss: 0.2223 - accuracy: 0.9160\n",
      "Epoch 4/5\n",
      "25000/25000 [==============================] - 47s 2ms/step - loss: 0.1880 - accuracy: 0.9305\n",
      "Epoch 5/5\n",
      "25000/25000 [==============================] - 47s 2ms/step - loss: 0.1617 - accuracy: 0.9416\n"
     ]
    },
    {
     "data": {
      "text/plain": [
       "<keras.callbacks.callbacks.History at 0x636963ba8>"
      ]
     },
     "execution_count": 48,
     "metadata": {},
     "output_type": "execute_result"
    }
   ],
   "source": [
    "model.fit(x_train, y_train,\n",
    "         batch_size=32,\n",
    "         epochs=5)"
   ]
  },
  {
   "cell_type": "code",
   "execution_count": 49,
   "metadata": {},
   "outputs": [
    {
     "name": "stdout",
     "output_type": "stream",
     "text": [
      "25000/25000 [==============================] - 11s 422us/step\n"
     ]
    }
   ],
   "source": [
    "score = model.evaluate(x_test, y_test)"
   ]
  },
  {
   "cell_type": "code",
   "execution_count": 50,
   "metadata": {
    "scrolled": true
   },
   "outputs": [
    {
     "name": "stdout",
     "output_type": "stream",
     "text": [
      "測試資料的 loss = 0.40138965051651\n",
      "測試資正確率 = 0.8536800146102905\n"
     ]
    }
   ],
   "source": [
    "print(f'測試資料的 loss = {score[0]}')\n",
    "print(f'測試資正確率 = {score[1]}')"
   ]
  },
  {
   "cell_type": "markdown",
   "metadata": {},
   "source": [
    "### 把model存起來"
   ]
  },
  {
   "cell_type": "code",
   "execution_count": 51,
   "metadata": {},
   "outputs": [],
   "source": [
    "model_json = model.to_json()\n",
    "open('imdb_model_arch.json',\n",
    "     'w').write(model_json)\n",
    "model.save_weights('imdb_model_weights.h5')"
   ]
  },
  {
   "cell_type": "code",
   "execution_count": null,
   "metadata": {},
   "outputs": [],
   "source": []
  }
 ],
 "metadata": {
  "kernelspec": {
   "display_name": "Python 3",
   "language": "python",
   "name": "python3"
  },
  "language_info": {
   "codemirror_mode": {
    "name": "ipython",
    "version": 3
   },
   "file_extension": ".py",
   "mimetype": "text/x-python",
   "name": "python",
   "nbconvert_exporter": "python",
   "pygments_lexer": "ipython3",
   "version": "3.7.3"
  }
 },
 "nbformat": 4,
 "nbformat_minor": 2
}
